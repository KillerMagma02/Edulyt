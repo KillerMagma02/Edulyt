{
  "nbformat": 4,
  "nbformat_minor": 0,
  "metadata": {
    "colab": {
      "provenance": []
    },
    "kernelspec": {
      "name": "python3",
      "display_name": "Python 3"
    },
    "language_info": {
      "name": "python"
    }
  },
  "cells": [
    {
      "cell_type": "code",
      "execution_count": 1,
      "metadata": {
        "id": "y8KyQGaoX2d8"
      },
      "outputs": [],
      "source": [
        "import pandas as pd"
      ]
    },
    {
      "cell_type": "markdown",
      "source": [
        "##P1 Monthly spend of each customer.*italicized text*"
      ],
      "metadata": {
        "id": "DEg122oVeg9E"
      }
    },
    {
      "cell_type": "code",
      "source": [
        "#transforming Spend\n",
        "spend = pd.read_excel('/Credit-Banking_Project-1 - Copy.xlsx', sheet_name= 'Spend')"
      ],
      "metadata": {
        "id": "P03cuDIxYUqm"
      },
      "execution_count": 3,
      "outputs": []
    },
    {
      "cell_type": "code",
      "source": [
        "spend['Month'] = pd.to_datetime(spend['Month'], format='%d-%b-%y')\n",
        "\n",
        "spend['YearMonth'] = spend['Month'].dt.to_period('M')\n",
        "\n",
        "monthly_spend = spend.groupby(['Customer', 'YearMonth']).sum()['Amount'].reset_index()\n",
        "monthly_spend['Amount'] = monthly_spend['Amount'].astype(str)\n",
        "\n",
        "monthly_spend.to_excel('/monthly_spend.xlsx')"
      ],
      "metadata": {
        "colab": {
          "base_uri": "https://localhost:8080/"
        },
        "id": "aqC0jF_gZ3Bt",
        "outputId": "d037aa9c-2ccb-46b1-b5e8-970cc0fb0c1d"
      },
      "execution_count": 4,
      "outputs": [
        {
          "output_type": "stream",
          "name": "stderr",
          "text": [
            "<ipython-input-4-5e6cb971f57f>:5: FutureWarning: The default value of numeric_only in DataFrameGroupBy.sum is deprecated. In a future version, numeric_only will default to False. Either specify numeric_only or select only columns which should be valid for the function.\n",
            "  monthly_spend = spend.groupby(['Customer', 'YearMonth']).sum()['Amount'].reset_index()\n"
          ]
        }
      ]
    },
    {
      "cell_type": "markdown",
      "source": [
        "##P2 Monthly repayment of each customer."
      ],
      "metadata": {
        "id": "csW4JMdAeyFr"
      }
    },
    {
      "cell_type": "code",
      "source": [
        "#Repayment\n",
        "repay = pd.read_excel('/Credit-Banking_Project-1 - Copy.xlsx', sheet_name= 'Repayment')"
      ],
      "metadata": {
        "id": "vYr9hKRBdEBQ"
      },
      "execution_count": 5,
      "outputs": []
    },
    {
      "cell_type": "code",
      "source": [
        "repay['Month'] = pd.to_datetime(repay['Month'], format='%d-%b-%y')\n",
        "\n",
        "repay['YearMonth'] = repay['Month'].dt.to_period('M')\n",
        "\n",
        "monthly_repay = repay.groupby(['Customer', 'YearMonth']).sum()['Amount'].reset_index()\n",
        "monthly_repay['Amount'] = monthly_repay['Amount'].astype(str)\n",
        "\n",
        "monthly_repay.to_excel('/monthly_repay.xlsx')\n"
      ],
      "metadata": {
        "colab": {
          "base_uri": "https://localhost:8080/"
        },
        "id": "VRzJ1GqDdOyF",
        "outputId": "73203ffe-edb1-4aff-fe6a-86efc3b27b7d"
      },
      "execution_count": 6,
      "outputs": [
        {
          "output_type": "stream",
          "name": "stderr",
          "text": [
            "<ipython-input-6-ad8c086fbb9e>:5: FutureWarning: The default value of numeric_only in DataFrameGroupBy.sum is deprecated. In a future version, numeric_only will default to False. Either specify numeric_only or select only columns which should be valid for the function.\n",
            "  monthly_repay = repay.groupby(['Customer', 'YearMonth']).sum()['Amount'].reset_index()\n"
          ]
        }
      ]
    },
    {
      "cell_type": "markdown",
      "source": [
        "##P3 Highest paying 10 customers."
      ],
      "metadata": {
        "id": "UaRF8AVHe2AQ"
      }
    },
    {
      "cell_type": "code",
      "source": [
        "monthly_repay['Amount'] = monthly_repay['Amount'].astype(float)\n",
        "\n",
        "total_spend_per_customer = monthly_repay.groupby('Customer')['Amount'].sum()\n",
        "\n",
        "# Get the top 10 highest paying customers\n",
        "top_10_customers = total_spend_per_customer.nlargest(10)\n",
        "\n",
        "# Display the result\n",
        "print(top_10_customers)\n"
      ],
      "metadata": {
        "colab": {
          "base_uri": "https://localhost:8080/"
        },
        "id": "zJHvIG9dkVLH",
        "outputId": "789402c2-b854-4292-b1c5-5ddf89e60a51"
      },
      "execution_count": 7,
      "outputs": [
        {
          "output_type": "stream",
          "name": "stdout",
          "text": [
            "Customer\n",
            "A22    9.767171e+06\n",
            "A60    9.262032e+06\n",
            "A61    8.807888e+06\n",
            "A40    8.805085e+06\n",
            "A47    8.529826e+06\n",
            "A43    8.458621e+06\n",
            "A48    8.432804e+06\n",
            "A41    8.374046e+06\n",
            "A49    8.259841e+06\n",
            "A45    8.115210e+06\n",
            "Name: Amount, dtype: float64\n"
          ]
        }
      ]
    },
    {
      "cell_type": "markdown",
      "source": [
        "##P4 People in which segment are spending more money."
      ],
      "metadata": {
        "id": "y--fQpDelhr6"
      }
    },
    {
      "cell_type": "code",
      "source": [
        "w1 = pd.read_excel('/Credit-Banking_Project-1 - Copy.xlsx', sheet_name= 'Customer Acqusition')"
      ],
      "metadata": {
        "id": "K5fwqV1vlhQl"
      },
      "execution_count": 8,
      "outputs": []
    },
    {
      "cell_type": "code",
      "source": [
        "# Merge the two datasets on the 'Customer' column\n",
        "merged_df = pd.merge(w1, spend, on='Customer')\n",
        "\n",
        "# Group by 'Segment' and calculate the total spending for each segment\n",
        "segment_spending = merged_df.groupby('Segment')['Amount'].sum()\n",
        "segment_spending= segment_spending.astype(str)\n",
        "# Display the result\n",
        "print(segment_spending)\n"
      ],
      "metadata": {
        "colab": {
          "base_uri": "https://localhost:8080/"
        },
        "id": "d-t3BWdfmI3t",
        "outputId": "a1f705f4-6a6f-4c6b-d2fb-f0be31dd4166"
      },
      "execution_count": 9,
      "outputs": [
        {
          "output_type": "stream",
          "name": "stdout",
          "text": [
            "Segment\n",
            "Govt              67325630.90647203\n",
            "Normal Salary    107707142.55799913\n",
            "Salaried_MNC        63639488.740588\n",
            "Salaried_Pvt      71704311.02024616\n",
            "Self Employed     70975475.20559144\n",
            "Name: Amount, dtype: object\n"
          ]
        }
      ]
    },
    {
      "cell_type": "markdown",
      "source": [
        "##P5 Which age group is spending more money?"
      ],
      "metadata": {
        "id": "WfASXXvatFUj"
      }
    },
    {
      "cell_type": "code",
      "source": [
        "\n",
        "#Removing values less than 18\n",
        "w1['Age'] = w1['Age'].apply(lambda x: x if x >= 18 else pd.NA)\n",
        "\n",
        "# Step 2: Calculate mean of values greater than 18\n",
        "mean_age = w1['Age'].mean()\n",
        "\n",
        "# Step 3: Replace less than 18 with the mean\n",
        "w1['Age'].fillna(mean_age, inplace=True)\n",
        "w1.to_excel('/Age_fixed.xlsx')"
      ],
      "metadata": {
        "id": "bu_i7AOntO8O"
      },
      "execution_count": 12,
      "outputs": []
    },
    {
      "cell_type": "code",
      "source": [
        "# Define age bins\n",
        "bins = [0, 18, 28, 38, 48, 58, 68, 78, 88]\n",
        "\n",
        "# Create labels for each bin\n",
        "labels = ['0-18', '19-28', '29-38', '39-48', '49-58', '59-68', '69-78', '79-88']\n",
        "\n",
        "# Cut the 'Age' column into bins\n",
        "w1['Age Group'] = pd.cut(w1['Age'], bins=bins, labels=labels, right=False)\n",
        "\n",
        "# Group by 'Age Group'\n",
        "grouped_by_age = w1.groupby('Age Group').size().reset_index(name='Count')\n",
        "\n",
        "# Display the result\n",
        "print(grouped_by_age)\n"
      ],
      "metadata": {
        "colab": {
          "base_uri": "https://localhost:8080/"
        },
        "id": "ElBqkqkby0Oj",
        "outputId": "df809c22-6a36-4048-d8b7-6451ffb2bcdd"
      },
      "execution_count": 13,
      "outputs": [
        {
          "output_type": "stream",
          "name": "stdout",
          "text": [
            "  Age Group  Count\n",
            "0      0-18      0\n",
            "1     19-28     15\n",
            "2     29-38     10\n",
            "3     39-48     12\n",
            "4     49-58     34\n",
            "5     59-68     13\n",
            "6     69-78     14\n",
            "7     79-88      2\n"
          ]
        }
      ]
    },
    {
      "cell_type": "markdown",
      "source": [
        "##P6 Which is the most profitable segment?"
      ],
      "metadata": {
        "id": "3b11VOrX0FhV"
      }
    },
    {
      "cell_type": "code",
      "source": [
        "# Group by 'Segment' and calculate total spending for each segment\n",
        "segment_spending = merged_df.groupby('Segment')['Amount'].sum()\n",
        "\n",
        "# Find the most profitable segment\n",
        "most_profitable_segment = segment_spending.idxmax()\n",
        "\n",
        "# Display the result\n",
        "print(\"The most profitable segment is:\", most_profitable_segment)\n"
      ],
      "metadata": {
        "colab": {
          "base_uri": "https://localhost:8080/"
        },
        "id": "BS1Ata1Xz_cU",
        "outputId": "41cd5a84-a5b7-4b85-86c4-e1accb8be883"
      },
      "execution_count": 14,
      "outputs": [
        {
          "output_type": "stream",
          "name": "stdout",
          "text": [
            "The most profitable segment is: Normal Salary\n"
          ]
        }
      ]
    },
    {
      "cell_type": "markdown",
      "source": [
        "##P7 In which category the customers are spending more money?"
      ],
      "metadata": {
        "id": "GEQNmbU444B0"
      }
    },
    {
      "cell_type": "code",
      "source": [
        "\n",
        "# Merge the datasets based on 'Customer'\n",
        "merged_data = pd.merge(w1, spend, on='Customer', how='inner')\n",
        "\n",
        "# Calculate total spending for each segment\n",
        "total_spending_by_segment = merged_data.groupby('Segment')['Amount'].sum()\n",
        "\n",
        "# Identify the segment with the highest total spending\n",
        "most_spending_segment = total_spending_by_segment.idxmax()\n",
        "\n",
        "print(\"Total Spending by Segment:\")\n",
        "print(total_spending_by_segment)\n",
        "print(\"\\nThe category of people spending more money is:\", most_spending_segment)\n"
      ],
      "metadata": {
        "colab": {
          "base_uri": "https://localhost:8080/"
        },
        "id": "7aosi8w243fT",
        "outputId": "222e49bf-7a32-450d-8ec6-dbf6e2f27fce"
      },
      "execution_count": 15,
      "outputs": [
        {
          "output_type": "stream",
          "name": "stdout",
          "text": [
            "Total Spending by Segment:\n",
            "Segment\n",
            "Govt             6.732563e+07\n",
            "Normal Salary    1.077071e+08\n",
            "Salaried_MNC     6.363949e+07\n",
            "Salaried_Pvt     7.170431e+07\n",
            "Self Employed    7.097548e+07\n",
            "Name: Amount, dtype: float64\n",
            "\n",
            "The category of people spending more money is: Normal Salary\n"
          ]
        }
      ]
    },
    {
      "cell_type": "markdown",
      "source": [
        "##P8 Impose an interest rate of 2.9% for each customer for any due amount."
      ],
      "metadata": {
        "id": "BAWPZmfT6Dmz"
      }
    },
    {
      "cell_type": "code",
      "source": [
        "merged_data = pd.merge(spend, repay, on='Customer', how='left')\n",
        "merged_data['due'] = merged_data['Amount_x']-merged_data['Amount_y']\n",
        "interest_rate = 0.029\n",
        "merged_data['Interest Amount'] = merged_data['due'] * interest_rate\n",
        "\n",
        "# Update 'Due Amount' with interestre\n",
        "merged_data['due'] += merged_data['Interest Amount']\n",
        "\n",
        "# Display the updated DataFrame\n",
        "merged_data.to_excel('/merged_data.xlsx')"
      ],
      "metadata": {
        "id": "O93YW9mCvqKJ"
      },
      "execution_count": 29,
      "outputs": []
    },
    {
      "cell_type": "code",
      "source": [
        "merged_data.head(10)\n"
      ],
      "metadata": {
        "colab": {
          "base_uri": "https://localhost:8080/",
          "height": 363
        },
        "id": "n7oYYMTFMnzp",
        "outputId": "41b96833-c28f-48e4-d9b7-7973916cbf77"
      },
      "execution_count": 27,
      "outputs": [
        {
          "output_type": "execute_result",
          "data": {
            "text/plain": [
              "   Sl No: Customer    Month_x       Type       Amount_x YearMonth_x  SL No:  \\\n",
              "0       1       A1 2004-01-12  JEWELLERY  473775.834869     2004-01       1   \n",
              "1       1       A1 2004-01-12  JEWELLERY  473775.834869     2004-01       2   \n",
              "2       1       A1 2004-01-12  JEWELLERY  473775.834869     2004-01       3   \n",
              "3       1       A1 2004-01-12  JEWELLERY  473775.834869     2004-01       4   \n",
              "4       1       A1 2004-01-12  JEWELLERY  473775.834869     2004-01       5   \n",
              "5       1       A1 2004-01-12  JEWELLERY  473775.834869     2004-01       6   \n",
              "6       1       A1 2004-01-12  JEWELLERY  473775.834869     2004-01       7   \n",
              "7       1       A1 2004-01-12  JEWELLERY  473775.834869     2004-01     103   \n",
              "8       1       A1 2004-01-12  JEWELLERY  473775.834869     2004-01     117   \n",
              "9       1       A1 2004-01-12  JEWELLERY  473775.834869     2004-01     131   \n",
              "\n",
              "     Month_y       Amount_y YearMonth_y  Interest Amount            due  \n",
              "0 2004-01-12  341467.483588     2004-01      3836.942187  136145.293468  \n",
              "1 2004-01-03  453932.861748     2004-01       575.446221   20418.419342  \n",
              "2 2004-01-15   33421.924125     2004-01     12770.263412  453124.174155  \n",
              "3 2004-01-25   93265.438563     2004-01     11034.801493  391545.197799  \n",
              "4 2005-01-17    1627.846954     2005-01     13692.291650  485840.279565  \n",
              "5 2005-02-23  368051.184468     2005-02      3066.014862  108790.665262  \n",
              "6 2005-02-01  289139.440515     2005-02      5354.455436  189990.849791  \n",
              "7 2004-01-12  401386.958899     2004-01      2099.277403   74488.153373  \n",
              "8 2004-02-05  196724.231955     2004-02      8034.496485  285086.099399  \n",
              "9 2006-04-19  207221.060169     2006-04      7730.088466  274284.863167  "
            ],
            "text/html": [
              "\n",
              "  <div id=\"df-34cce9b4-896c-44ff-83c7-6358b2311350\" class=\"colab-df-container\">\n",
              "    <div>\n",
              "<style scoped>\n",
              "    .dataframe tbody tr th:only-of-type {\n",
              "        vertical-align: middle;\n",
              "    }\n",
              "\n",
              "    .dataframe tbody tr th {\n",
              "        vertical-align: top;\n",
              "    }\n",
              "\n",
              "    .dataframe thead th {\n",
              "        text-align: right;\n",
              "    }\n",
              "</style>\n",
              "<table border=\"1\" class=\"dataframe\">\n",
              "  <thead>\n",
              "    <tr style=\"text-align: right;\">\n",
              "      <th></th>\n",
              "      <th>Sl No:</th>\n",
              "      <th>Customer</th>\n",
              "      <th>Month_x</th>\n",
              "      <th>Type</th>\n",
              "      <th>Amount_x</th>\n",
              "      <th>YearMonth_x</th>\n",
              "      <th>SL No:</th>\n",
              "      <th>Month_y</th>\n",
              "      <th>Amount_y</th>\n",
              "      <th>YearMonth_y</th>\n",
              "      <th>Interest Amount</th>\n",
              "      <th>due</th>\n",
              "    </tr>\n",
              "  </thead>\n",
              "  <tbody>\n",
              "    <tr>\n",
              "      <th>0</th>\n",
              "      <td>1</td>\n",
              "      <td>A1</td>\n",
              "      <td>2004-01-12</td>\n",
              "      <td>JEWELLERY</td>\n",
              "      <td>473775.834869</td>\n",
              "      <td>2004-01</td>\n",
              "      <td>1</td>\n",
              "      <td>2004-01-12</td>\n",
              "      <td>341467.483588</td>\n",
              "      <td>2004-01</td>\n",
              "      <td>3836.942187</td>\n",
              "      <td>136145.293468</td>\n",
              "    </tr>\n",
              "    <tr>\n",
              "      <th>1</th>\n",
              "      <td>1</td>\n",
              "      <td>A1</td>\n",
              "      <td>2004-01-12</td>\n",
              "      <td>JEWELLERY</td>\n",
              "      <td>473775.834869</td>\n",
              "      <td>2004-01</td>\n",
              "      <td>2</td>\n",
              "      <td>2004-01-03</td>\n",
              "      <td>453932.861748</td>\n",
              "      <td>2004-01</td>\n",
              "      <td>575.446221</td>\n",
              "      <td>20418.419342</td>\n",
              "    </tr>\n",
              "    <tr>\n",
              "      <th>2</th>\n",
              "      <td>1</td>\n",
              "      <td>A1</td>\n",
              "      <td>2004-01-12</td>\n",
              "      <td>JEWELLERY</td>\n",
              "      <td>473775.834869</td>\n",
              "      <td>2004-01</td>\n",
              "      <td>3</td>\n",
              "      <td>2004-01-15</td>\n",
              "      <td>33421.924125</td>\n",
              "      <td>2004-01</td>\n",
              "      <td>12770.263412</td>\n",
              "      <td>453124.174155</td>\n",
              "    </tr>\n",
              "    <tr>\n",
              "      <th>3</th>\n",
              "      <td>1</td>\n",
              "      <td>A1</td>\n",
              "      <td>2004-01-12</td>\n",
              "      <td>JEWELLERY</td>\n",
              "      <td>473775.834869</td>\n",
              "      <td>2004-01</td>\n",
              "      <td>4</td>\n",
              "      <td>2004-01-25</td>\n",
              "      <td>93265.438563</td>\n",
              "      <td>2004-01</td>\n",
              "      <td>11034.801493</td>\n",
              "      <td>391545.197799</td>\n",
              "    </tr>\n",
              "    <tr>\n",
              "      <th>4</th>\n",
              "      <td>1</td>\n",
              "      <td>A1</td>\n",
              "      <td>2004-01-12</td>\n",
              "      <td>JEWELLERY</td>\n",
              "      <td>473775.834869</td>\n",
              "      <td>2004-01</td>\n",
              "      <td>5</td>\n",
              "      <td>2005-01-17</td>\n",
              "      <td>1627.846954</td>\n",
              "      <td>2005-01</td>\n",
              "      <td>13692.291650</td>\n",
              "      <td>485840.279565</td>\n",
              "    </tr>\n",
              "    <tr>\n",
              "      <th>5</th>\n",
              "      <td>1</td>\n",
              "      <td>A1</td>\n",
              "      <td>2004-01-12</td>\n",
              "      <td>JEWELLERY</td>\n",
              "      <td>473775.834869</td>\n",
              "      <td>2004-01</td>\n",
              "      <td>6</td>\n",
              "      <td>2005-02-23</td>\n",
              "      <td>368051.184468</td>\n",
              "      <td>2005-02</td>\n",
              "      <td>3066.014862</td>\n",
              "      <td>108790.665262</td>\n",
              "    </tr>\n",
              "    <tr>\n",
              "      <th>6</th>\n",
              "      <td>1</td>\n",
              "      <td>A1</td>\n",
              "      <td>2004-01-12</td>\n",
              "      <td>JEWELLERY</td>\n",
              "      <td>473775.834869</td>\n",
              "      <td>2004-01</td>\n",
              "      <td>7</td>\n",
              "      <td>2005-02-01</td>\n",
              "      <td>289139.440515</td>\n",
              "      <td>2005-02</td>\n",
              "      <td>5354.455436</td>\n",
              "      <td>189990.849791</td>\n",
              "    </tr>\n",
              "    <tr>\n",
              "      <th>7</th>\n",
              "      <td>1</td>\n",
              "      <td>A1</td>\n",
              "      <td>2004-01-12</td>\n",
              "      <td>JEWELLERY</td>\n",
              "      <td>473775.834869</td>\n",
              "      <td>2004-01</td>\n",
              "      <td>103</td>\n",
              "      <td>2004-01-12</td>\n",
              "      <td>401386.958899</td>\n",
              "      <td>2004-01</td>\n",
              "      <td>2099.277403</td>\n",
              "      <td>74488.153373</td>\n",
              "    </tr>\n",
              "    <tr>\n",
              "      <th>8</th>\n",
              "      <td>1</td>\n",
              "      <td>A1</td>\n",
              "      <td>2004-01-12</td>\n",
              "      <td>JEWELLERY</td>\n",
              "      <td>473775.834869</td>\n",
              "      <td>2004-01</td>\n",
              "      <td>117</td>\n",
              "      <td>2004-02-05</td>\n",
              "      <td>196724.231955</td>\n",
              "      <td>2004-02</td>\n",
              "      <td>8034.496485</td>\n",
              "      <td>285086.099399</td>\n",
              "    </tr>\n",
              "    <tr>\n",
              "      <th>9</th>\n",
              "      <td>1</td>\n",
              "      <td>A1</td>\n",
              "      <td>2004-01-12</td>\n",
              "      <td>JEWELLERY</td>\n",
              "      <td>473775.834869</td>\n",
              "      <td>2004-01</td>\n",
              "      <td>131</td>\n",
              "      <td>2006-04-19</td>\n",
              "      <td>207221.060169</td>\n",
              "      <td>2006-04</td>\n",
              "      <td>7730.088466</td>\n",
              "      <td>274284.863167</td>\n",
              "    </tr>\n",
              "  </tbody>\n",
              "</table>\n",
              "</div>\n",
              "    <div class=\"colab-df-buttons\">\n",
              "\n",
              "  <div class=\"colab-df-container\">\n",
              "    <button class=\"colab-df-convert\" onclick=\"convertToInteractive('df-34cce9b4-896c-44ff-83c7-6358b2311350')\"\n",
              "            title=\"Convert this dataframe to an interactive table.\"\n",
              "            style=\"display:none;\">\n",
              "\n",
              "  <svg xmlns=\"http://www.w3.org/2000/svg\" height=\"24px\" viewBox=\"0 -960 960 960\">\n",
              "    <path d=\"M120-120v-720h720v720H120Zm60-500h600v-160H180v160Zm220 220h160v-160H400v160Zm0 220h160v-160H400v160ZM180-400h160v-160H180v160Zm440 0h160v-160H620v160ZM180-180h160v-160H180v160Zm440 0h160v-160H620v160Z\"/>\n",
              "  </svg>\n",
              "    </button>\n",
              "\n",
              "  <style>\n",
              "    .colab-df-container {\n",
              "      display:flex;\n",
              "      gap: 12px;\n",
              "    }\n",
              "\n",
              "    .colab-df-convert {\n",
              "      background-color: #E8F0FE;\n",
              "      border: none;\n",
              "      border-radius: 50%;\n",
              "      cursor: pointer;\n",
              "      display: none;\n",
              "      fill: #1967D2;\n",
              "      height: 32px;\n",
              "      padding: 0 0 0 0;\n",
              "      width: 32px;\n",
              "    }\n",
              "\n",
              "    .colab-df-convert:hover {\n",
              "      background-color: #E2EBFA;\n",
              "      box-shadow: 0px 1px 2px rgba(60, 64, 67, 0.3), 0px 1px 3px 1px rgba(60, 64, 67, 0.15);\n",
              "      fill: #174EA6;\n",
              "    }\n",
              "\n",
              "    .colab-df-buttons div {\n",
              "      margin-bottom: 4px;\n",
              "    }\n",
              "\n",
              "    [theme=dark] .colab-df-convert {\n",
              "      background-color: #3B4455;\n",
              "      fill: #D2E3FC;\n",
              "    }\n",
              "\n",
              "    [theme=dark] .colab-df-convert:hover {\n",
              "      background-color: #434B5C;\n",
              "      box-shadow: 0px 1px 3px 1px rgba(0, 0, 0, 0.15);\n",
              "      filter: drop-shadow(0px 1px 2px rgba(0, 0, 0, 0.3));\n",
              "      fill: #FFFFFF;\n",
              "    }\n",
              "  </style>\n",
              "\n",
              "    <script>\n",
              "      const buttonEl =\n",
              "        document.querySelector('#df-34cce9b4-896c-44ff-83c7-6358b2311350 button.colab-df-convert');\n",
              "      buttonEl.style.display =\n",
              "        google.colab.kernel.accessAllowed ? 'block' : 'none';\n",
              "\n",
              "      async function convertToInteractive(key) {\n",
              "        const element = document.querySelector('#df-34cce9b4-896c-44ff-83c7-6358b2311350');\n",
              "        const dataTable =\n",
              "          await google.colab.kernel.invokeFunction('convertToInteractive',\n",
              "                                                    [key], {});\n",
              "        if (!dataTable) return;\n",
              "\n",
              "        const docLinkHtml = 'Like what you see? Visit the ' +\n",
              "          '<a target=\"_blank\" href=https://colab.research.google.com/notebooks/data_table.ipynb>data table notebook</a>'\n",
              "          + ' to learn more about interactive tables.';\n",
              "        element.innerHTML = '';\n",
              "        dataTable['output_type'] = 'display_data';\n",
              "        await google.colab.output.renderOutput(dataTable, element);\n",
              "        const docLink = document.createElement('div');\n",
              "        docLink.innerHTML = docLinkHtml;\n",
              "        element.appendChild(docLink);\n",
              "      }\n",
              "    </script>\n",
              "  </div>\n",
              "\n",
              "\n",
              "<div id=\"df-24816c06-9deb-41ac-b13f-7624d5fc3af5\">\n",
              "  <button class=\"colab-df-quickchart\" onclick=\"quickchart('df-24816c06-9deb-41ac-b13f-7624d5fc3af5')\"\n",
              "            title=\"Suggest charts\"\n",
              "            style=\"display:none;\">\n",
              "\n",
              "<svg xmlns=\"http://www.w3.org/2000/svg\" height=\"24px\"viewBox=\"0 0 24 24\"\n",
              "     width=\"24px\">\n",
              "    <g>\n",
              "        <path d=\"M19 3H5c-1.1 0-2 .9-2 2v14c0 1.1.9 2 2 2h14c1.1 0 2-.9 2-2V5c0-1.1-.9-2-2-2zM9 17H7v-7h2v7zm4 0h-2V7h2v10zm4 0h-2v-4h2v4z\"/>\n",
              "    </g>\n",
              "</svg>\n",
              "  </button>\n",
              "\n",
              "<style>\n",
              "  .colab-df-quickchart {\n",
              "      --bg-color: #E8F0FE;\n",
              "      --fill-color: #1967D2;\n",
              "      --hover-bg-color: #E2EBFA;\n",
              "      --hover-fill-color: #174EA6;\n",
              "      --disabled-fill-color: #AAA;\n",
              "      --disabled-bg-color: #DDD;\n",
              "  }\n",
              "\n",
              "  [theme=dark] .colab-df-quickchart {\n",
              "      --bg-color: #3B4455;\n",
              "      --fill-color: #D2E3FC;\n",
              "      --hover-bg-color: #434B5C;\n",
              "      --hover-fill-color: #FFFFFF;\n",
              "      --disabled-bg-color: #3B4455;\n",
              "      --disabled-fill-color: #666;\n",
              "  }\n",
              "\n",
              "  .colab-df-quickchart {\n",
              "    background-color: var(--bg-color);\n",
              "    border: none;\n",
              "    border-radius: 50%;\n",
              "    cursor: pointer;\n",
              "    display: none;\n",
              "    fill: var(--fill-color);\n",
              "    height: 32px;\n",
              "    padding: 0;\n",
              "    width: 32px;\n",
              "  }\n",
              "\n",
              "  .colab-df-quickchart:hover {\n",
              "    background-color: var(--hover-bg-color);\n",
              "    box-shadow: 0 1px 2px rgba(60, 64, 67, 0.3), 0 1px 3px 1px rgba(60, 64, 67, 0.15);\n",
              "    fill: var(--button-hover-fill-color);\n",
              "  }\n",
              "\n",
              "  .colab-df-quickchart-complete:disabled,\n",
              "  .colab-df-quickchart-complete:disabled:hover {\n",
              "    background-color: var(--disabled-bg-color);\n",
              "    fill: var(--disabled-fill-color);\n",
              "    box-shadow: none;\n",
              "  }\n",
              "\n",
              "  .colab-df-spinner {\n",
              "    border: 2px solid var(--fill-color);\n",
              "    border-color: transparent;\n",
              "    border-bottom-color: var(--fill-color);\n",
              "    animation:\n",
              "      spin 1s steps(1) infinite;\n",
              "  }\n",
              "\n",
              "  @keyframes spin {\n",
              "    0% {\n",
              "      border-color: transparent;\n",
              "      border-bottom-color: var(--fill-color);\n",
              "      border-left-color: var(--fill-color);\n",
              "    }\n",
              "    20% {\n",
              "      border-color: transparent;\n",
              "      border-left-color: var(--fill-color);\n",
              "      border-top-color: var(--fill-color);\n",
              "    }\n",
              "    30% {\n",
              "      border-color: transparent;\n",
              "      border-left-color: var(--fill-color);\n",
              "      border-top-color: var(--fill-color);\n",
              "      border-right-color: var(--fill-color);\n",
              "    }\n",
              "    40% {\n",
              "      border-color: transparent;\n",
              "      border-right-color: var(--fill-color);\n",
              "      border-top-color: var(--fill-color);\n",
              "    }\n",
              "    60% {\n",
              "      border-color: transparent;\n",
              "      border-right-color: var(--fill-color);\n",
              "    }\n",
              "    80% {\n",
              "      border-color: transparent;\n",
              "      border-right-color: var(--fill-color);\n",
              "      border-bottom-color: var(--fill-color);\n",
              "    }\n",
              "    90% {\n",
              "      border-color: transparent;\n",
              "      border-bottom-color: var(--fill-color);\n",
              "    }\n",
              "  }\n",
              "</style>\n",
              "\n",
              "  <script>\n",
              "    async function quickchart(key) {\n",
              "      const quickchartButtonEl =\n",
              "        document.querySelector('#' + key + ' button');\n",
              "      quickchartButtonEl.disabled = true;  // To prevent multiple clicks.\n",
              "      quickchartButtonEl.classList.add('colab-df-spinner');\n",
              "      try {\n",
              "        const charts = await google.colab.kernel.invokeFunction(\n",
              "            'suggestCharts', [key], {});\n",
              "      } catch (error) {\n",
              "        console.error('Error during call to suggestCharts:', error);\n",
              "      }\n",
              "      quickchartButtonEl.classList.remove('colab-df-spinner');\n",
              "      quickchartButtonEl.classList.add('colab-df-quickchart-complete');\n",
              "    }\n",
              "    (() => {\n",
              "      let quickchartButtonEl =\n",
              "        document.querySelector('#df-24816c06-9deb-41ac-b13f-7624d5fc3af5 button');\n",
              "      quickchartButtonEl.style.display =\n",
              "        google.colab.kernel.accessAllowed ? 'block' : 'none';\n",
              "    })();\n",
              "  </script>\n",
              "</div>\n",
              "\n",
              "    </div>\n",
              "  </div>\n"
            ]
          },
          "metadata": {},
          "execution_count": 27
        }
      ]
    },
    {
      "cell_type": "markdown",
      "source": [
        "##P9 Monthly profit for the bank."
      ],
      "metadata": {
        "id": "yK50O9lC7yg0"
      }
    },
    {
      "cell_type": "code",
      "source": [
        "# Calculate total repayment amount\n",
        "total_repayment = spend.groupby('Month')['Amount'].sum()\n",
        "\n",
        "# Calculate total interest income for the bank\n",
        "total_interest_income = repay.groupby('Month')['Amount'].sum()\n",
        "\n",
        "# Calculate monthly profit\n",
        "monthly_profit = total_interest_income - total_repayment\n",
        "monthly_profit = monthly_profit.astype(str)\n",
        "\n",
        "monthly_profit.head(15)"
      ],
      "metadata": {
        "colab": {
          "base_uri": "https://localhost:8080/"
        },
        "id": "9FWsI4Ng70k8",
        "outputId": "062b2e50-9886-422b-bd68-1595d1845917"
      },
      "execution_count": 28,
      "outputs": [
        {
          "output_type": "execute_result",
          "data": {
            "text/plain": [
              "Month\n",
              "2004-01-03    -742242.8035266288\n",
              "2004-01-12     -693538.894187808\n",
              "2004-01-15    162209.32940965518\n",
              "2004-01-25    -4200057.038185298\n",
              "2004-02-05    -1675148.877373551\n",
              "2004-03-19    493073.01151401363\n",
              "2004-04-06    -44331.60310711013\n",
              "2004-04-25     293831.3286310071\n",
              "2004-05-05    1511314.9289707877\n",
              "2004-09-13    1659353.7054917878\n",
              "2004-11-23    -913070.9315543938\n",
              "2005-01-17    280872.60404475033\n",
              "2005-02-01    2006447.5337792588\n",
              "2005-02-03    -780330.8239515144\n",
              "2005-02-16     2282177.473982633\n",
              "Name: Amount, dtype: object"
            ]
          },
          "metadata": {},
          "execution_count": 28
        }
      ]
    }
  ]
}